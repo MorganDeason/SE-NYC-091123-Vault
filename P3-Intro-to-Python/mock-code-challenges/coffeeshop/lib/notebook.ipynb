{
 "cells": [
  {
   "cell_type": "code",
   "execution_count": 2,
   "id": "bd39d4f1-e1dd-4b76-8292-05f40679d00a",
   "metadata": {},
   "outputs": [],
   "source": [
    "class Customer:    \n",
    "    def __init__(self, name):\n",
    "        self.name = name\n",
    "\n",
    "    @property\n",
    "    def name(self):\n",
    "        return self._name\n",
    "\n",
    "    @name.setter\n",
    "    def name(self, name):\n",
    "        if isinstance(name, str) and 1<= len(name) <= 15:\n",
    "            self._name = name\n",
    "        else:\n",
    "            raise Exception(\"Setter failed\")\n",
    "\n",
    "    def access_current_transactions(self, new_transaction=None):\n",
    "        from classes.transaction import Transaction\n",
    "        pass\n",
    "\n",
    "    def access_current_coffees(self, new_coffee=None):\n",
    "        from classes.coffee import Coffee\n",
    "        pass\n",
    "\n",
    "    def place_order(self, name_of_coffee, price):\n",
    "        pass\n",
    "\n",
    "    def calculate_total_money_spent(self):\n",
    "        pass\n",
    "    \n",
    "    def retrieve_coffees_within_price_range(self, min_price=0, max_price=999):\n",
    "        pass"
   ]
  },
  {
   "cell_type": "code",
   "execution_count": 5,
   "id": "0a1fc2df-6332-48bc-8916-161ce0a7af57",
   "metadata": {},
   "outputs": [
    {
     "ename": "Exception",
     "evalue": "Setter failed",
     "output_type": "error",
     "traceback": [
      "\u001b[0;31m---------------------------------------------------------------------------\u001b[0m",
      "\u001b[0;31mException\u001b[0m                                 Traceback (most recent call last)",
      "Cell \u001b[0;32mIn[5], line 1\u001b[0m\n\u001b[0;32m----> 1\u001b[0m morgan \u001b[38;5;241m=\u001b[39m \u001b[43mCustomer\u001b[49m\u001b[43m(\u001b[49m\u001b[38;5;241;43m4\u001b[39;49m\u001b[43m)\u001b[49m\n",
      "Cell \u001b[0;32mIn[2], line 3\u001b[0m, in \u001b[0;36mCustomer.__init__\u001b[0;34m(self, name)\u001b[0m\n\u001b[1;32m      2\u001b[0m \u001b[38;5;28;01mdef\u001b[39;00m \u001b[38;5;21m__init__\u001b[39m(\u001b[38;5;28mself\u001b[39m, name):\n\u001b[0;32m----> 3\u001b[0m     \u001b[38;5;28;43mself\u001b[39;49m\u001b[38;5;241;43m.\u001b[39;49m\u001b[43mname\u001b[49m \u001b[38;5;241m=\u001b[39m name\n",
      "Cell \u001b[0;32mIn[2], line 14\u001b[0m, in \u001b[0;36mCustomer.name\u001b[0;34m(self, name)\u001b[0m\n\u001b[1;32m     12\u001b[0m     \u001b[38;5;28mself\u001b[39m\u001b[38;5;241m.\u001b[39m_name \u001b[38;5;241m=\u001b[39m name\n\u001b[1;32m     13\u001b[0m \u001b[38;5;28;01melse\u001b[39;00m:\n\u001b[0;32m---> 14\u001b[0m     \u001b[38;5;28;01mraise\u001b[39;00m \u001b[38;5;167;01mException\u001b[39;00m(\u001b[38;5;124m\"\u001b[39m\u001b[38;5;124mSetter failed\u001b[39m\u001b[38;5;124m\"\u001b[39m)\n",
      "\u001b[0;31mException\u001b[0m: Setter failed"
     ]
    }
   ],
   "source": [
    "morgan = Customer(4)\n"
   ]
  },
  {
   "cell_type": "code",
   "execution_count": 4,
   "id": "afee6a4a-bbf7-41ba-ad5f-04156a89ae08",
   "metadata": {},
   "outputs": [
    {
     "data": {
      "text/plain": [
       "'Morgan'"
      ]
     },
     "execution_count": 4,
     "metadata": {},
     "output_type": "execute_result"
    }
   ],
   "source": [
    "morgan.name"
   ]
  },
  {
   "cell_type": "code",
   "execution_count": 6,
   "id": "8ad11e9e-6e92-4e15-ae11-4634e085c969",
   "metadata": {},
   "outputs": [],
   "source": [
    "class Coffee:\n",
    "    def __init__(self, name):\n",
    "        self.name = name\n",
    "\n",
    "    @property\n",
    "    def name(self):\n",
    "        return self._name\n",
    "\n",
    "    @name.setter\n",
    "    def name(self, name):\n",
    "        if isinstance(name, str) and (not hasattr(self, \"name\")):\n",
    "            self._name = name\n",
    "        else:\n",
    "            raise Exception(\"Setter Failed\")\n",
    "\n",
    "    def access_current_transactions(self, new_transaction=None):\n",
    "        from classes.transaction import Transaction\n",
    "        pass\n",
    "\n",
    "    def access_current_customers(self, new_customer=None):\n",
    "        from classes.customer import Customer\n",
    "        pass\n",
    "\n",
    "    def calculate_total_number_of_transactions(self):\n",
    "        pass\n",
    "    \n",
    "    def calculate_average_price_across_all_transactions(self):\n",
    "        pass"
   ]
  },
  {
   "cell_type": "code",
   "execution_count": 10,
   "id": "6a1d7a50-c54f-4b17-bd55-5f98ba757306",
   "metadata": {},
   "outputs": [],
   "source": [
    "black = Coffee(\"Black\")"
   ]
  },
  {
   "cell_type": "code",
   "execution_count": 13,
   "id": "90b65798-1f58-4baf-822a-e96f368fa297",
   "metadata": {},
   "outputs": [
    {
     "ename": "Exception",
     "evalue": "Setter Failed",
     "output_type": "error",
     "traceback": [
      "\u001b[0;31m---------------------------------------------------------------------------\u001b[0m",
      "\u001b[0;31mException\u001b[0m                                 Traceback (most recent call last)",
      "Cell \u001b[0;32mIn[13], line 1\u001b[0m\n\u001b[0;32m----> 1\u001b[0m \u001b[43mblack\u001b[49m\u001b[38;5;241;43m.\u001b[39;49m\u001b[43mname\u001b[49m \u001b[38;5;241m=\u001b[39m \u001b[38;5;124m\"\u001b[39m\u001b[38;5;124mWhite\u001b[39m\u001b[38;5;124m\"\u001b[39m\n",
      "Cell \u001b[0;32mIn[6], line 14\u001b[0m, in \u001b[0;36mCoffee.name\u001b[0;34m(self, name)\u001b[0m\n\u001b[1;32m     12\u001b[0m     \u001b[38;5;28mself\u001b[39m\u001b[38;5;241m.\u001b[39m_name \u001b[38;5;241m=\u001b[39m name\n\u001b[1;32m     13\u001b[0m \u001b[38;5;28;01melse\u001b[39;00m:\n\u001b[0;32m---> 14\u001b[0m     \u001b[38;5;28;01mraise\u001b[39;00m \u001b[38;5;167;01mException\u001b[39;00m(\u001b[38;5;124m\"\u001b[39m\u001b[38;5;124mSetter Failed\u001b[39m\u001b[38;5;124m\"\u001b[39m)\n",
      "\u001b[0;31mException\u001b[0m: Setter Failed"
     ]
    }
   ],
   "source": [
    "black.name = \"White\""
   ]
  },
  {
   "cell_type": "code",
   "execution_count": 14,
   "id": "a36cb4d5-b590-4813-9a07-90f04902af7b",
   "metadata": {},
   "outputs": [
    {
     "ename": "Exception",
     "evalue": "Setter Failed",
     "output_type": "error",
     "traceback": [
      "\u001b[0;31m---------------------------------------------------------------------------\u001b[0m",
      "\u001b[0;31mException\u001b[0m                                 Traceback (most recent call last)",
      "Cell \u001b[0;32mIn[14], line 1\u001b[0m\n\u001b[0;32m----> 1\u001b[0m \u001b[43mblack\u001b[49m\u001b[38;5;241;43m.\u001b[39;49m\u001b[43mname\u001b[49m \u001b[38;5;241m=\u001b[39m \u001b[38;5;124m\"\u001b[39m\u001b[38;5;124mBlue\u001b[39m\u001b[38;5;124m\"\u001b[39m\n",
      "Cell \u001b[0;32mIn[6], line 14\u001b[0m, in \u001b[0;36mCoffee.name\u001b[0;34m(self, name)\u001b[0m\n\u001b[1;32m     12\u001b[0m     \u001b[38;5;28mself\u001b[39m\u001b[38;5;241m.\u001b[39m_name \u001b[38;5;241m=\u001b[39m name\n\u001b[1;32m     13\u001b[0m \u001b[38;5;28;01melse\u001b[39;00m:\n\u001b[0;32m---> 14\u001b[0m     \u001b[38;5;28;01mraise\u001b[39;00m \u001b[38;5;167;01mException\u001b[39;00m(\u001b[38;5;124m\"\u001b[39m\u001b[38;5;124mSetter Failed\u001b[39m\u001b[38;5;124m\"\u001b[39m)\n",
      "\u001b[0;31mException\u001b[0m: Setter Failed"
     ]
    }
   ],
   "source": [
    "black.name = \"Blue\""
   ]
  },
  {
   "cell_type": "code",
   "execution_count": null,
   "id": "679b3a9d-451e-46a5-beb1-c031f40c90c0",
   "metadata": {},
   "outputs": [],
   "source": []
  }
 ],
 "metadata": {
  "kernelspec": {
   "display_name": "Python 3 (ipykernel)",
   "language": "python",
   "name": "python3"
  },
  "language_info": {
   "codemirror_mode": {
    "name": "ipython",
    "version": 3
   },
   "file_extension": ".py",
   "mimetype": "text/x-python",
   "name": "python",
   "nbconvert_exporter": "python",
   "pygments_lexer": "ipython3",
   "version": "3.8.13"
  }
 },
 "nbformat": 4,
 "nbformat_minor": 5
}
