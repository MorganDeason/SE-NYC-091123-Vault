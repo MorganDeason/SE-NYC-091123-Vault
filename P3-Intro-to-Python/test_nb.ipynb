{
 "cells": [
  {
   "cell_type": "code",
   "execution_count": 2,
   "id": "011fea35-ceaa-4124-9dc4-7f61e3f5cfb1",
   "metadata": {},
   "outputs": [
    {
     "name": "stdout",
     "output_type": "stream",
     "text": [
      "Hope\n"
     ]
    }
   ],
   "source": [
    "print(\"Hope\")"
   ]
  },
  {
   "cell_type": "code",
   "execution_count": null,
   "id": "55743a6e-2d9e-409f-8b51-13c3491bd3ed",
   "metadata": {},
   "outputs": [],
   "source": []
  },
  {
   "cell_type": "code",
   "execution_count": null,
   "id": "2aa24713-05f5-4024-a7b2-2e4d143fb611",
   "metadata": {},
   "outputs": [],
   "source": []
  },
  {
   "cell_type": "code",
   "execution_count": null,
   "id": "35dac96e-7090-42b3-bf61-db16a86ae57f",
   "metadata": {},
   "outputs": [],
   "source": [
    "print(\"Hell\")"
   ]
  },
  {
   "cell_type": "code",
   "execution_count": null,
   "id": "2432f5fc-7b69-43ea-ab09-af71d6fbd7ee",
   "metadata": {},
   "outputs": [],
   "source": []
  },
  {
   "cell_type": "code",
   "execution_count": null,
   "id": "5712e491-4188-4acf-9371-ced83703032f",
   "metadata": {},
   "outputs": [],
   "source": []
  },
  {
   "cell_type": "code",
   "execution_count": null,
   "id": "6c69ec90-c6f2-477c-8d56-168beb83779b",
   "metadata": {},
   "outputs": [],
   "source": []
  },
  {
   "cell_type": "code",
   "execution_count": null,
   "id": "e553fd29-254e-49e1-9fdd-aaa0adf54337",
   "metadata": {},
   "outputs": [],
   "source": []
  }
 ],
 "metadata": {
  "kernelspec": {
   "display_name": "Python 3 (ipykernel)",
   "language": "python",
   "name": "python3"
  },
  "language_info": {
   "codemirror_mode": {
    "name": "ipython",
    "version": 3
   },
   "file_extension": ".py",
   "mimetype": "text/x-python",
   "name": "python",
   "nbconvert_exporter": "python",
   "pygments_lexer": "ipython3",
   "version": "3.8.13"
  }
 },
 "nbformat": 4,
 "nbformat_minor": 5
}
