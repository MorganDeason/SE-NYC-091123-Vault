{
 "cells": [
  {
   "cell_type": "code",
   "execution_count": 45,
   "id": "43e6aea7-8acc-4f0f-841e-615adf1428aa",
   "metadata": {},
   "outputs": [
    {
     "name": "stdout",
     "output_type": "stream",
     "text": [
      "['Flour', 'Eggs', 'Vanilla Extract', 'Chocolate Chips']\n",
      "Preheat temp is 375.\n",
      "\n",
      " >> Current Number of Baked Goods: 1\n",
      " >> All Baked Goods: ['Chocolate Cake']\n",
      "\n",
      "That was good\n",
      "\n",
      " >> Current Number of Baked Goods: 0\n",
      " >> All Baked Goods: []\n",
      "\n"
     ]
    }
   ],
   "source": [
    "class BakedGood:\n",
    "    \"\"\" Class (recipe) to create baked good instances. \"\"\"\n",
    "    # NOTE: Don't edit these two lines.\n",
    "    total_goods_baked = 0\n",
    "    all_goods_baked = []\n",
    "    \n",
    "    \"\"\" ATTRIBUTES (INGREDIENTS AND INSTRUCTIONS) \"\"\"\n",
    "    def __init__(self, name, servings, has_chocolate=False):\n",
    "        # TODO: Extend `BakedGood().__init__()` to work with future scripts.\n",
    "        self.name = name\n",
    "        self.servings = servings\n",
    "        self.has_chocolate = has_chocolate\n",
    "        self.ingredients = []\n",
    "        self.temp = 0\n",
    "        \n",
    "\n",
    "    \"\"\" INSTANCE METHODS (STEPS TO COOK AND SET THINGS UP) \"\"\"\n",
    "    def get_ingredients(self, ingredients):\n",
    "        # TODO: Extend `BakedGood().get_ingredients()` to work with future scripts.\n",
    "        self.ingredients = ingredients\n",
    "        print(f\"{ingredients}\")\n",
    "\n",
    "    def preheat_oven(self, temp):\n",
    "        # TODO: Extend `BakedGood().preheat_oven()` to work with future scripts.\n",
    "        self.temp = temp\n",
    "        print(f\"Preheat temp is {temp}.\")\n",
    "\n",
    "    def bake(self, time, temp):\n",
    "        # TODO: Extend `BakedGood().bake()` to work with future scripts.\n",
    "        if self.temp == temp:\n",
    "        \n",
    "        # NOTE: Don't edit these next two lines.\n",
    "            BakedGood.total_goods_baked += 1\n",
    "            BakedGood.all_goods_baked.append(self)\n",
    "        # NOTE: You can edit past this line.\n",
    "        else: \n",
    "            print(\"Please preheat the oven\")\n",
    "\n",
    "    def eat(self):\n",
    "        # TODO: Extend `BakedGood().eat()` to work with future scripts.\n",
    "        # NOTE: Don't edit these next two lines.\n",
    "        BakedGood.total_goods_baked -= 1\n",
    "        BakedGood.all_goods_baked.remove(self)\n",
    "        # NOTE: You can edit past this line.\n",
    "        print(\"That was good\")\n",
    "\n",
    "# TODO: Create a baked good instance for making a chocolate cake\n",
    "#       with relevant parameters for its name, number of servings,\n",
    "#       and whether or not it has chocolate\n",
    "# NOTE: It's helpful to have something printed from within this method \n",
    "#       to know this works independently of other methods!\n",
    "chocolate_cake = BakedGood(name=\"Chocolate Cake\",\n",
    "                           servings=12,\n",
    "                           has_chocolate=True)\n",
    "\n",
    "# TODO: Call an instance method to get a list of ingredients and set\n",
    "#       them as our chocolate cake's required ingredients\n",
    "# NOTE: It's helpful to have something printed from within this method \n",
    "#       to know this works independently of other methods!\n",
    "chocolate_cake.get_ingredients([\"Flour\", \"Eggs\", \"Vanilla Extract\", \"Chocolate Chips\"])\n",
    "\n",
    "# TODO: Call an instance method to preheat the oven at 375 degrees\n",
    "# NOTE: It's helpful to have something printed from within this method \n",
    "#       to know this works independently of other methods!\n",
    "chocolate_cake.preheat_oven(375)\n",
    "# TODO: Call an instance method to bake the chocolate cake for 45 minutes\n",
    "#       at 375 degrees. Note that this function should only successfully run\n",
    "#       if the oven is already preheated.\n",
    "# NOTE: It's helpful to have something printed from within this method \n",
    "#       to know this works independently of other methods!\n",
    "chocolate_cake.bake(45, 375)\n",
    "\n",
    "# NOTE: This should print out the total number of currently baked goods as well\n",
    "#       as each of their names. At this point in time, this should return a `1` \n",
    "#       and a `[Chocolate Cake]`, respectively.\n",
    "print(f\"\\n >> Current Number of Baked Goods: {BakedGood.total_goods_baked}\")\n",
    "print(f\" >> All Baked Goods: {[baked_good.name for baked_good in BakedGood.all_goods_baked]}\\n\")\n",
    "\n",
    "# TODO: Call an instance method to eat the chocolate cake that we've just made.\n",
    "# NOTE: It's helpful to have something printed from within this method \n",
    "#       to know this works independently of other methods!\n",
    "chocolate_cake.eat()\n",
    "\n",
    "# NOTE: This should print out the total number of currently baked goods as well\n",
    "#       as each of their names. At this point in time, this should return a `0` \n",
    "#       and a `[]`, respectively.\n",
    "print(f\"\\n >> Current Number of Baked Goods: {BakedGood.total_goods_baked}\")\n",
    "print(f\" >> All Baked Goods: {[baked_good.name for baked_good in BakedGood.all_goods_baked]}\\n\")"
   ]
  },
  {
   "cell_type": "code",
   "execution_count": null,
   "id": "cb897d4d-8a6a-47d1-9208-f7bafee27b49",
   "metadata": {},
   "outputs": [],
   "source": [
    "# TODO: Instantiate an instance of `Baker` named `caker`.\n",
    "# NOTE: This instantiation will automatically create \n",
    "#       an instance of a `Kitchen()` object and \n",
    "#       associate it with the baker.\n",
    "caker = Baker(\"Caker\")\n",
    "\n",
    "# Predefine servings and ingredient list to be used for \n",
    "# invoking `Baker().purchase_ingredients_for()` method.\n",
    "servings_for_chocolate_cake = 8\n",
    "ingredients_for_chocolate_cake = [\"Flour\", \"Eggs\", \"Butter\", \"Chocolate\", \"Vanilla Extract\", \"Sugar\"]\n",
    "\n",
    "# TODO: Have the baker purchase a list of ingredients.\n",
    "# NOTE: This list of ingredients will automatically\n",
    "#       go into the baker's kitchen pantry.\n",
    "caker.purchase_ingredients_for(\"Chocolate Cake\",\n",
    "                               servings=servings_for_chocolate_cake,\n",
    "                               ingredients=ingredients_for_chocolate_cake)\n",
    "\n",
    "# TODO: Have the baker preheat the oven to a set temperature of 375°F.\n",
    "caker.preheat_oven(375)\n",
    "\n",
    "# TODO: Have the baker bake the chocolate cake at 375°F for 45 min.\n",
    "# NOTE: When the chocolate cake has been fully baked, two class attributes\n",
    "#       owned by the baker class are updated. One is an integer tracking\n",
    "#       number of total goods baked that should be incremented. The other\n",
    "#       is a list tracking each existing instance of a baked good that \n",
    "#       should be appended to. \n",
    "caker.bake_in_oven(45)\n",
    "\n",
    "# TODO: Have the baker eat the chocolate cake.\n",
    "#       This will remove the instance of the chocolate cake from the class\n",
    "#       attribute list tracking each existing instance of a baked good.\n",
    "#       However, this will NOT decrement the integer class attribute \n",
    "#       tracking the total number of goods baked by the baker.\n",
    "caker.eat(\"Chocolate Cake\")"
   ]
  },
  {
   "cell_type": "code",
   "execution_count": null,
   "id": "425cbed7-a74a-4a08-acbf-8670d8645b01",
   "metadata": {},
   "outputs": [],
   "source": [
    "class Baker:\n",
    "    def __init__(self):\n",
    "        pass"
   ]
  },
  {
   "cell_type": "code",
   "execution_count": 1,
   "id": "fbcc9a79-0ed6-430d-8fed-33076d7cd5af",
   "metadata": {},
   "outputs": [],
   "source": [
    "class Kitchen:\n",
    "    pass"
   ]
  },
  {
   "cell_type": "code",
   "execution_count": null,
   "id": "debad72f-54f2-44b1-bf3d-b78c00c7eed3",
   "metadata": {},
   "outputs": [],
   "source": [
    "class Oven:\n",
    "    pass"
   ]
  },
  {
   "cell_type": "code",
   "execution_count": null,
   "id": "f3521098-f523-4f37-a225-70114fcd52be",
   "metadata": {},
   "outputs": [],
   "source": []
  },
  {
   "cell_type": "code",
   "execution_count": null,
   "id": "15fce41b-8996-49fb-9349-3634f6750e8c",
   "metadata": {},
   "outputs": [],
   "source": []
  },
  {
   "cell_type": "code",
   "execution_count": null,
   "id": "1eb4364a-8fa8-4661-bd48-c08402eb95f0",
   "metadata": {},
   "outputs": [],
   "source": []
  },
  {
   "cell_type": "code",
   "execution_count": null,
   "id": "1abd679b-be49-44de-ae09-2a01dd0d9d0f",
   "metadata": {},
   "outputs": [],
   "source": []
  },
  {
   "cell_type": "code",
   "execution_count": null,
   "id": "06fee89b-cfef-4157-ae4a-f5c45344168b",
   "metadata": {},
   "outputs": [],
   "source": []
  },
  {
   "cell_type": "code",
   "execution_count": null,
   "id": "8da9b8aa-4004-452d-8642-b959dc38e73f",
   "metadata": {},
   "outputs": [],
   "source": [
    "class Kitchen:\n",
    "    def __init__(self):\n",
    "        self.pantry = set()\n",
    "        self.oven = Oven()\n",
    "\n",
    "class Oven:\n",
    "    def __init__(self):\n",
    "        self.is_preheated = False\n",
    "        self.temperature = 0         # Degrees Fahrenheit\n",
    "        self.time_to_cook = 0        # Minutes\n",
    "\n",
    "    def preheat(self, temperature: int):\n",
    "        self.temperature = temperature\n",
    "        self.is_preheated = True\n",
    "\n",
    "    def bake(self, item_to_bake: str, cook_time: int):\n",
    "        self.time_to_cook = cook_time\n",
    "        return BakedGood(name=item_to_bake)"
   ]
  },
  {
   "cell_type": "code",
   "execution_count": null,
   "id": "b9f2a48c-3db4-48e4-8028-89e19993ba39",
   "metadata": {},
   "outputs": [],
   "source": [
    "class BakedGood:\n",
    "    def __init__(self, name: str, servings: int = 8):\n",
    "        self.name = name\n",
    "        self.servings = servings"
   ]
  },
  {
   "cell_type": "code",
   "execution_count": null,
   "id": "0262b629-92a5-40d0-b5be-25e79cafc719",
   "metadata": {},
   "outputs": [],
   "source": [
    "class Baker:\n",
    "    all_goods_baked, total_number_of_goods_baked = [], 0\n",
    "    \n",
    "    def __init__(self, name):\n",
    "        self.name = name\n",
    "        self.kitchen = Kitchen()\n",
    "        self.name_of_item_to_bake = None\n",
    "        self.servings = None\n",
    "\n",
    "    def purchase_ingredients_for(self, name_of_item_to_bake: str, servings: int, ingredients: list):\n",
    "        self.kitchen.pantry.update(ingredients)\n",
    "        self.name_of_item_to_bake = name_of_item_to_bake\n",
    "        self.servings = servings\n",
    "\n",
    "    def preheat_oven(self, temperature: int):\n",
    "        self.kitchen.oven.preheat(temperature=temperature)\n",
    "\n",
    "    def bake_in_oven(self, cook_time: int):\n",
    "        baked_good = self.kitchen.oven.bake(item_to_bake=self.name_of_item_to_bake, \n",
    "                                            cook_time=cook_time)\n",
    "        Baker.all_goods_baked.append(baked_good)\n",
    "        Baker.total_number_of_goods_baked += 1\n",
    "        self.name_of_item_to_bake = None\n",
    "\n",
    "    def eat(self, name_of_baked_good_to_eat: str):\n",
    "        for baked_good in Baker.all_goods_baked:\n",
    "            if baked_good.name == name_of_baked_good_to_eat:\n",
    "                Baker.all_goods_baked.remove(baked_good)"
   ]
  },
  {
   "cell_type": "code",
   "execution_count": null,
   "id": "ebc87ae3-8945-4fa1-8a4d-5f35383a7b92",
   "metadata": {},
   "outputs": [],
   "source": []
  },
  {
   "cell_type": "code",
   "execution_count": null,
   "id": "df43cc13-44a2-4168-96e7-1a6b762bc2cb",
   "metadata": {},
   "outputs": [],
   "source": []
  },
  {
   "cell_type": "code",
   "execution_count": null,
   "id": "143a6a98-df51-4d2f-91df-72c376d2ef99",
   "metadata": {},
   "outputs": [],
   "source": []
  },
  {
   "cell_type": "code",
   "execution_count": null,
   "id": "4e607a49-a844-4f86-bdd7-afb68ce145df",
   "metadata": {},
   "outputs": [],
   "source": [
    "# TODO: Create an instance of a human.\n",
    "# NOTE: When a human is initialized, we should\n",
    "#       pass enough relevant data to it to also\n",
    "#       initialize an instance of its pet dog.\n",
    "owner = Human(name=???,\n",
    "               age=???,\n",
    "               name_of_dog=???,\n",
    "               breed_of_dog=???,\n",
    "               age_of_dog=???)\n",
    "\n",
    "# TODO: Have the human walk the dog.\n",
    "# NOTE: The dog should be happy and tired.\n",
    "# NOTE: The dog should bark.\n",
    "owner.walk_dog()\n",
    "\n",
    "# TODO: Have the human feed the dog.\n",
    "# NOTE: The dog should be happy and active.\n",
    "# NOTE: The dog should woof.\n",
    "owner.feed_dog()\n",
    "\n",
    "# TODO: Have the human take the dog to the vet.\n",
    "# NOTE: The dog should be sad and active.\n",
    "# NOTE: The dog should whine.\n",
    "owner.take_dog_to_vet()\n",
    "\n",
    "# TODO: Have the human get another dog. There should\n",
    "#       now be two dogs associated with the owner.\n",
    "# NOTE: This will mandate utilizing class attribute code.\n",
    "#       Check the object architecture notes for more info.\n",
    "owner.get_new_dog(name_of_dog=???,\n",
    "                  breed_of_dog=???,\n",
    "                  age_of_dog=???)"
   ]
  },
  {
   "cell_type": "code",
   "execution_count": 57,
   "id": "92610cd0-7ecd-49df-9ec9-0cab4067ada5",
   "metadata": {},
   "outputs": [],
   "source": [
    "class Human:\n",
    "    def __init__(self, name, age, name_of_dog, breed_of_dog, age_of_dog):\n",
    "        self.name = name\n",
    "        self.age = age\n",
    "        # TODO: Modify this to instantiate an instance of `Dog` and add to list.\n",
    "        self.dogs = []\n",
    "        self.dog = self.get_new_dog(name_of_dog, breed_of_dog, age_of_dog)\n",
    "        \n",
    "\n",
    "    def walk_dog(self):\n",
    "        for dog in self.dogs:\n",
    "            dog.walk()\n",
    "\n",
    "    def feed_dog(self):\n",
    "        for dog in self.dogs:\n",
    "            dog.eat()\n",
    "\n",
    "    def take_dog_to_vet(self):\n",
    "        for dog in self.dogs:\n",
    "            dog.go_to_vet()\n",
    "\n",
    "    def get_new_dog(self, name_of_dog, breed_of_dog, age_of_dog):\n",
    "        # TODO: Modify this to add an instance of a new `Dog` to owner's list.\n",
    "        self.dog = Dog(name=name_of_dog, breed=breed_of_dog, age=age_of_dog)\n",
    "        self.dogs.append(self.dog)\n",
    "# Write your object integration code here!\n",
    "class Dog:\n",
    "    all_dogs, num_of_dogs = [], 0\n",
    "    \n",
    "    def __init__(self, name, breed, age):\n",
    "        self.name = name\n",
    "        self.breed = breed\n",
    "        self.age = age\n",
    "        self.is_happy = False\n",
    "        self.is_tired = False\n",
    "        # TODO: Increment and extend class attributes for tracking total number of dogs and all dog instances.\n",
    "\n",
    "    def walk(self):\n",
    "        self.is_happy = True\n",
    "        self.is_tired = True\n",
    "        self.speak(\"Bark\")\n",
    "\n",
    "    def eat(self):\n",
    "        self.is_happy = True\n",
    "        self.is_tired = False\n",
    "        self.speak()\n",
    "\n",
    "    def go_to_vet(self):\n",
    "        self.is_happy = False\n",
    "        self.is_tired = False\n",
    "        self.speak(\"Whines\")\n",
    "\n",
    "    def speak(self, command=\"woof\"):\n",
    "        print(f\"{self.name} makes a {command}.\")"
   ]
  },
  {
   "cell_type": "code",
   "execution_count": 58,
   "id": "a384853c-acdd-42aa-be16-dba15f0bf2ce",
   "metadata": {},
   "outputs": [],
   "source": [
    "morgan = Human(name=\"morgan\", age=27, name_of_dog=\"Maya\", breed_of_dog=\"mutt\", age_of_dog=5)"
   ]
  },
  {
   "cell_type": "code",
   "execution_count": 59,
   "id": "14733b67-2012-436c-aef6-b358f7f1b17b",
   "metadata": {},
   "outputs": [
    {
     "name": "stdout",
     "output_type": "stream",
     "text": [
      "[<__main__.Dog object at 0x7ff2147e0640>]\n"
     ]
    }
   ],
   "source": [
    "print(morgan.dogs)\n"
   ]
  },
  {
   "cell_type": "code",
   "execution_count": 60,
   "id": "28310fb0-2089-44ea-8c36-b17bbc21c880",
   "metadata": {},
   "outputs": [],
   "source": [
    "morgan.get_new_dog(\"Carlos\", \"Poodle\", 4)"
   ]
  },
  {
   "cell_type": "code",
   "execution_count": 61,
   "id": "9371d617-bced-4fc5-9608-440f684f6826",
   "metadata": {},
   "outputs": [
    {
     "name": "stdout",
     "output_type": "stream",
     "text": [
      "Carlos\n"
     ]
    }
   ],
   "source": [
    "print(morgan.dogs[1].name)\n"
   ]
  },
  {
   "cell_type": "code",
   "execution_count": 63,
   "id": "29e3f974-5db2-4ee3-971c-ecc6793a09ad",
   "metadata": {},
   "outputs": [
    {
     "name": "stdout",
     "output_type": "stream",
     "text": [
      "Maya makes a woof.\n",
      "Carlos makes a woof.\n"
     ]
    }
   ],
   "source": [
    "morgan.feed_dog()\n"
   ]
  },
  {
   "cell_type": "code",
   "execution_count": null,
   "id": "495715fe-6c2e-4030-a7a3-cdac62ed2a43",
   "metadata": {},
   "outputs": [],
   "source": []
  },
  {
   "cell_type": "code",
   "execution_count": null,
   "id": "b44e56c2-0f06-45fd-a81a-597214a9261a",
   "metadata": {},
   "outputs": [],
   "source": []
  },
  {
   "cell_type": "code",
   "execution_count": null,
   "id": "cfe6edc3-3f2b-4149-94eb-54ca90c310da",
   "metadata": {},
   "outputs": [],
   "source": []
  }
 ],
 "metadata": {
  "kernelspec": {
   "display_name": "Python 3 (ipykernel)",
   "language": "python",
   "name": "python3"
  },
  "language_info": {
   "codemirror_mode": {
    "name": "ipython",
    "version": 3
   },
   "file_extension": ".py",
   "mimetype": "text/x-python",
   "name": "python",
   "nbconvert_exporter": "python",
   "pygments_lexer": "ipython3",
   "version": "3.8.13"
  }
 },
 "nbformat": 4,
 "nbformat_minor": 5
}
